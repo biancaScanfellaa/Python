{
 "cells": [
  {
   "cell_type": "code",
   "execution_count": 1,
   "id": "cc68770b",
   "metadata": {},
   "outputs": [
    {
     "name": "stdout",
     "output_type": "stream",
     "text": [
      "Hello word!\n"
     ]
    }
   ],
   "source": [
    "print(\"Hello word!\")"
   ]
  },
  {
   "cell_type": "code",
   "execution_count": 2,
   "id": "a3bcc210",
   "metadata": {},
   "outputs": [
    {
     "name": "stdout",
     "output_type": "stream",
     "text": [
      "Olá\n"
     ]
    }
   ],
   "source": [
    "print(\"Olá\")"
   ]
  },
  {
   "cell_type": "code",
   "execution_count": 3,
   "id": "ac72d899",
   "metadata": {},
   "outputs": [
    {
     "data": {
      "text/plain": [
       "5"
      ]
     },
     "execution_count": 3,
     "metadata": {},
     "output_type": "execute_result"
    }
   ],
   "source": [
    "2+3 "
   ]
  },
  {
   "cell_type": "code",
   "execution_count": 4,
   "id": "2bd1fd57",
   "metadata": {},
   "outputs": [
    {
     "data": {
      "text/plain": [
       "7.8"
      ]
     },
     "execution_count": 4,
     "metadata": {},
     "output_type": "execute_result"
    }
   ],
   "source": [
    "2.3+5.5 #comentarios, para representar números decimais , utilizo o PONTO."
   ]
  },
  {
   "cell_type": "code",
   "execution_count": 5,
   "id": "39688338",
   "metadata": {},
   "outputs": [
    {
     "data": {
      "text/plain": [
       "-3"
      ]
     },
     "execution_count": 5,
     "metadata": {},
     "output_type": "execute_result"
    }
   ],
   "source": [
    "7-10"
   ]
  },
  {
   "cell_type": "code",
   "execution_count": 6,
   "id": "50e21a48",
   "metadata": {},
   "outputs": [
    {
     "data": {
      "text/plain": [
       "56"
      ]
     },
     "execution_count": 6,
     "metadata": {},
     "output_type": "execute_result"
    }
   ],
   "source": [
    "7*8"
   ]
  },
  {
   "cell_type": "markdown",
   "id": "5bf28da2",
   "metadata": {},
   "source": [
    "**Divisão**\n",
    "_Divisão_\n",
    "#Divisão"
   ]
  },
  {
   "cell_type": "code",
   "execution_count": 7,
   "id": "6d6c46c5",
   "metadata": {},
   "outputs": [
    {
     "data": {
      "text/plain": [
       "3.0"
      ]
     },
     "execution_count": 7,
     "metadata": {},
     "output_type": "execute_result"
    }
   ],
   "source": [
    "9/3"
   ]
  },
  {
   "cell_type": "code",
   "execution_count": 8,
   "id": "5fca26de",
   "metadata": {},
   "outputs": [
    {
     "data": {
      "text/plain": [
       "3.3333333333333335"
      ]
     },
     "execution_count": 8,
     "metadata": {},
     "output_type": "execute_result"
    }
   ],
   "source": [
    "10/3"
   ]
  },
  {
   "cell_type": "code",
   "execution_count": 9,
   "id": "e7c1b368",
   "metadata": {},
   "outputs": [
    {
     "data": {
      "text/plain": [
       "3"
      ]
     },
     "execution_count": 9,
     "metadata": {},
     "output_type": "execute_result"
    }
   ],
   "source": [
    "10//3 #resultado sem a virgula"
   ]
  },
  {
   "cell_type": "code",
   "execution_count": 10,
   "id": "0fac28bf",
   "metadata": {},
   "outputs": [
    {
     "data": {
      "text/plain": [
       "1"
      ]
     },
     "execution_count": 10,
     "metadata": {},
     "output_type": "execute_result"
    }
   ],
   "source": [
    "10%3"
   ]
  },
  {
   "cell_type": "code",
   "execution_count": 11,
   "id": "3df97155",
   "metadata": {},
   "outputs": [
    {
     "data": {
      "text/plain": [
       "0"
      ]
     },
     "execution_count": 11,
     "metadata": {},
     "output_type": "execute_result"
    }
   ],
   "source": [
    "4%4"
   ]
  },
  {
   "cell_type": "code",
   "execution_count": 12,
   "id": "b3d19253",
   "metadata": {},
   "outputs": [
    {
     "data": {
      "text/plain": [
       "8"
      ]
     },
     "execution_count": 12,
     "metadata": {},
     "output_type": "execute_result"
    }
   ],
   "source": [
    "#expressão numerica\n",
    "\n",
    "2+3*2"
   ]
  },
  {
   "cell_type": "code",
   "execution_count": 13,
   "id": "e117a795",
   "metadata": {},
   "outputs": [
    {
     "data": {
      "text/plain": [
       "10"
      ]
     },
     "execution_count": 13,
     "metadata": {},
     "output_type": "execute_result"
    }
   ],
   "source": [
    "(2+3)*2"
   ]
  },
  {
   "cell_type": "code",
   "execution_count": 14,
   "id": "8468c483",
   "metadata": {},
   "outputs": [
    {
     "data": {
      "text/plain": [
       "32"
      ]
     },
     "execution_count": 14,
     "metadata": {},
     "output_type": "execute_result"
    }
   ],
   "source": [
    "#quando 2 é elevado a quinta potencia\n",
    "\n",
    "2**5"
   ]
  },
  {
   "cell_type": "code",
   "execution_count": 15,
   "id": "4c15be25",
   "metadata": {},
   "outputs": [
    {
     "data": {
      "text/plain": [
       "6.0"
      ]
     },
     "execution_count": 15,
     "metadata": {},
     "output_type": "execute_result"
    }
   ],
   "source": [
    "#raiz quadrada de 36\n",
    "\n",
    "36**0.5"
   ]
  },
  {
   "cell_type": "code",
   "execution_count": 16,
   "id": "48098374",
   "metadata": {},
   "outputs": [],
   "source": [
    "#Importação de biblioteca\n",
    "\n",
    "import math "
   ]
  },
  {
   "cell_type": "code",
   "execution_count": 17,
   "id": "22c7ddb0",
   "metadata": {},
   "outputs": [
    {
     "data": {
      "text/plain": [
       "4.898979485566356"
      ]
     },
     "execution_count": 17,
     "metadata": {},
     "output_type": "execute_result"
    }
   ],
   "source": [
    "math.sqrt(24)"
   ]
  },
  {
   "cell_type": "code",
   "execution_count": 18,
   "id": "105695cb",
   "metadata": {},
   "outputs": [
    {
     "data": {
      "text/plain": [
       "3.141592653589793"
      ]
     },
     "execution_count": 18,
     "metadata": {},
     "output_type": "execute_result"
    }
   ],
   "source": [
    "math.pi"
   ]
  },
  {
   "cell_type": "code",
   "execution_count": 19,
   "id": "81029925",
   "metadata": {},
   "outputs": [],
   "source": [
    "#Calcule a area de um circulo de raio 2cm\n",
    "#formula: pi.r2\n",
    "\n"
   ]
  },
  {
   "cell_type": "code",
   "execution_count": 20,
   "id": "87930f98",
   "metadata": {},
   "outputs": [
    {
     "data": {
      "text/plain": [
       "12.566370614359172"
      ]
     },
     "execution_count": 20,
     "metadata": {},
     "output_type": "execute_result"
    }
   ],
   "source": [
    "math.pi*2**2"
   ]
  },
  {
   "cell_type": "code",
   "execution_count": 21,
   "id": "fe7448e7",
   "metadata": {},
   "outputs": [],
   "source": [
    "import antigravity"
   ]
  },
  {
   "cell_type": "code",
   "execution_count": 22,
   "id": "583844c5",
   "metadata": {},
   "outputs": [
    {
     "data": {
      "text/plain": [
       "12197"
      ]
     },
     "execution_count": 22,
     "metadata": {},
     "output_type": "execute_result"
    }
   ],
   "source": [
    "# Quantos segundos há em 3 horas, 23 minutos e 17 segundos?\n",
    "\n",
    "3*60*60+23*60+17"
   ]
  },
  {
   "cell_type": "code",
   "execution_count": 23,
   "id": "ec9a64cd",
   "metadata": {},
   "outputs": [
    {
     "data": {
      "text/plain": [
       "1.5"
      ]
     },
     "execution_count": 23,
     "metadata": {},
     "output_type": "execute_result"
    }
   ],
   "source": [
    "# Você viu que no noticiário o preço do repolho caiu 3,5%. Sendo que o repolho estava custando 2 reais o quilo, quanto passará acustar o quilo?\n",
    "\n",
    "3.5-2\n"
   ]
  },
  {
   "cell_type": "code",
   "execution_count": 24,
   "id": "ab61a4e0",
   "metadata": {},
   "outputs": [
    {
     "data": {
      "text/plain": [
       "1.93"
      ]
     },
     "execution_count": 24,
     "metadata": {},
     "output_type": "execute_result"
    }
   ],
   "source": [
    "#Correção\n",
    "\n",
    "2-(2*3.5/100)"
   ]
  },
  {
   "cell_type": "code",
   "execution_count": 25,
   "id": "86137844",
   "metadata": {},
   "outputs": [
    {
     "data": {
      "text/plain": [
       "True"
      ]
     },
     "execution_count": 25,
     "metadata": {},
     "output_type": "execute_result"
    }
   ],
   "source": [
    "#Comparações(menor e maior)\n",
    "\n",
    "2<3"
   ]
  },
  {
   "cell_type": "code",
   "execution_count": 26,
   "id": "653dfbcc",
   "metadata": {},
   "outputs": [
    {
     "data": {
      "text/plain": [
       "True"
      ]
     },
     "execution_count": 26,
     "metadata": {},
     "output_type": "execute_result"
    }
   ],
   "source": [
    "0<1"
   ]
  },
  {
   "cell_type": "code",
   "execution_count": 27,
   "id": "d48ba6d0",
   "metadata": {},
   "outputs": [
    {
     "data": {
      "text/plain": [
       "False"
      ]
     },
     "execution_count": 27,
     "metadata": {},
     "output_type": "execute_result"
    }
   ],
   "source": [
    "1<0"
   ]
  },
  {
   "cell_type": "code",
   "execution_count": 28,
   "id": "144f79fe",
   "metadata": {},
   "outputs": [
    {
     "data": {
      "text/plain": [
       "True"
      ]
     },
     "execution_count": 28,
     "metadata": {},
     "output_type": "execute_result"
    }
   ],
   "source": [
    "5>4"
   ]
  },
  {
   "cell_type": "code",
   "execution_count": 29,
   "id": "5fbf9431",
   "metadata": {},
   "outputs": [
    {
     "data": {
      "text/plain": [
       "False"
      ]
     },
     "execution_count": 29,
     "metadata": {},
     "output_type": "execute_result"
    }
   ],
   "source": [
    "4>5"
   ]
  },
  {
   "cell_type": "code",
   "execution_count": 30,
   "id": "c3b9f3bd",
   "metadata": {},
   "outputs": [
    {
     "data": {
      "text/plain": [
       "True"
      ]
     },
     "execution_count": 30,
     "metadata": {},
     "output_type": "execute_result"
    }
   ],
   "source": [
    "#menor igual\n",
    "5<=10"
   ]
  },
  {
   "cell_type": "code",
   "execution_count": 31,
   "id": "248b9935",
   "metadata": {},
   "outputs": [
    {
     "data": {
      "text/plain": [
       "True"
      ]
     },
     "execution_count": 31,
     "metadata": {},
     "output_type": "execute_result"
    }
   ],
   "source": [
    "5<=5"
   ]
  },
  {
   "cell_type": "code",
   "execution_count": 33,
   "id": "365ccc6b",
   "metadata": {},
   "outputs": [
    {
     "data": {
      "text/plain": [
       "True"
      ]
     },
     "execution_count": 33,
     "metadata": {},
     "output_type": "execute_result"
    }
   ],
   "source": [
    "10>=5"
   ]
  },
  {
   "cell_type": "code",
   "execution_count": 34,
   "id": "393dc66c",
   "metadata": {},
   "outputs": [
    {
     "data": {
      "text/plain": [
       "True"
      ]
     },
     "execution_count": 34,
     "metadata": {},
     "output_type": "execute_result"
    }
   ],
   "source": [
    "10>=5"
   ]
  },
  {
   "cell_type": "code",
   "execution_count": 35,
   "id": "c96d7ff3",
   "metadata": {},
   "outputs": [
    {
     "data": {
      "text/plain": [
       "False"
      ]
     },
     "execution_count": 35,
     "metadata": {},
     "output_type": "execute_result"
    }
   ],
   "source": [
    "#Igual \n",
    "\n",
    "6==7"
   ]
  },
  {
   "cell_type": "code",
   "execution_count": 36,
   "id": "98b1ec9d",
   "metadata": {},
   "outputs": [
    {
     "data": {
      "text/plain": [
       "True"
      ]
     },
     "execution_count": 36,
     "metadata": {},
     "output_type": "execute_result"
    }
   ],
   "source": [
    "5==5"
   ]
  },
  {
   "cell_type": "code",
   "execution_count": 37,
   "id": "a5b54065",
   "metadata": {},
   "outputs": [
    {
     "data": {
      "text/plain": [
       "True"
      ]
     },
     "execution_count": 37,
     "metadata": {},
     "output_type": "execute_result"
    }
   ],
   "source": [
    "#Diferente \n",
    "\n",
    "6!=7"
   ]
  },
  {
   "cell_type": "code",
   "execution_count": 41,
   "id": "34f32e3c",
   "metadata": {},
   "outputs": [
    {
     "data": {
      "text/plain": [
       "False"
      ]
     },
     "execution_count": 41,
     "metadata": {},
     "output_type": "execute_result"
    }
   ],
   "source": [
    "5!=5"
   ]
  },
  {
   "cell_type": "code",
   "execution_count": 42,
   "id": "66426832",
   "metadata": {},
   "outputs": [
    {
     "data": {
      "text/plain": [
       "False"
      ]
     },
     "execution_count": 42,
     "metadata": {},
     "output_type": "execute_result"
    }
   ],
   "source": [
    "5!=5"
   ]
  },
  {
   "cell_type": "code",
   "execution_count": 43,
   "id": "9e543f1d",
   "metadata": {},
   "outputs": [],
   "source": [
    "#Variaveis"
   ]
  },
  {
   "cell_type": "code",
   "execution_count": 44,
   "id": "273de9c4",
   "metadata": {},
   "outputs": [],
   "source": [
    "numero = 20"
   ]
  },
  {
   "cell_type": "code",
   "execution_count": 45,
   "id": "181f9e94",
   "metadata": {},
   "outputs": [
    {
     "data": {
      "text/plain": [
       "20"
      ]
     },
     "execution_count": 45,
     "metadata": {},
     "output_type": "execute_result"
    }
   ],
   "source": [
    "numero"
   ]
  },
  {
   "cell_type": "code",
   "execution_count": 46,
   "id": "d121cfc2",
   "metadata": {},
   "outputs": [
    {
     "data": {
      "text/plain": [
       "26"
      ]
     },
     "execution_count": 46,
     "metadata": {},
     "output_type": "execute_result"
    }
   ],
   "source": [
    "numero + 6"
   ]
  },
  {
   "cell_type": "code",
   "execution_count": 47,
   "id": "ad855e79",
   "metadata": {},
   "outputs": [],
   "source": [
    "x = 5 "
   ]
  },
  {
   "cell_type": "code",
   "execution_count": 48,
   "id": "344b8563",
   "metadata": {},
   "outputs": [
    {
     "data": {
      "text/plain": [
       "5"
      ]
     },
     "execution_count": 48,
     "metadata": {},
     "output_type": "execute_result"
    }
   ],
   "source": [
    "x"
   ]
  },
  {
   "cell_type": "code",
   "execution_count": 49,
   "id": "5edd9e10",
   "metadata": {},
   "outputs": [
    {
     "data": {
      "text/plain": [
       "160"
      ]
     },
     "execution_count": 49,
     "metadata": {},
     "output_type": "execute_result"
    }
   ],
   "source": [
    "x + 155"
   ]
  },
  {
   "cell_type": "code",
   "execution_count": 50,
   "id": "8e903b50",
   "metadata": {},
   "outputs": [
    {
     "data": {
      "text/plain": [
       "25"
      ]
     },
     "execution_count": 50,
     "metadata": {},
     "output_type": "execute_result"
    }
   ],
   "source": [
    "numero= numero + 5\n",
    "numero"
   ]
  },
  {
   "cell_type": "code",
   "execution_count": 51,
   "id": "d99923ac",
   "metadata": {},
   "outputs": [],
   "source": [
    "#Variavel com valor textual"
   ]
  },
  {
   "cell_type": "code",
   "execution_count": 52,
   "id": "d167d6c3",
   "metadata": {},
   "outputs": [],
   "source": [
    "texto = \"Vou aparecer nas redes sociais da prefeitura!\""
   ]
  },
  {
   "cell_type": "code",
   "execution_count": 53,
   "id": "6b8b7279",
   "metadata": {},
   "outputs": [
    {
     "data": {
      "text/plain": [
       "'Vou aparecer nas redes sociais da prefeitura!'"
      ]
     },
     "execution_count": 53,
     "metadata": {},
     "output_type": "execute_result"
    }
   ],
   "source": [
    "texto"
   ]
  },
  {
   "cell_type": "code",
   "execution_count": 54,
   "id": "c281b72a",
   "metadata": {},
   "outputs": [
    {
     "data": {
      "text/plain": [
       "'Vou aparecer nas redes sociais da prefeitura!'"
      ]
     },
     "execution_count": 54,
     "metadata": {},
     "output_type": "execute_result"
    }
   ],
   "source": [
    "texto.capitalize()"
   ]
  },
  {
   "cell_type": "code",
   "execution_count": 55,
   "id": "aed69692",
   "metadata": {},
   "outputs": [
    {
     "data": {
      "text/plain": [
       "<function str.capitalize()>"
      ]
     },
     "execution_count": 55,
     "metadata": {},
     "output_type": "execute_result"
    }
   ],
   "source": [
    "\"oi Ola HELLO\".capitalize"
   ]
  },
  {
   "cell_type": "code",
   "execution_count": 56,
   "id": "33066eba",
   "metadata": {},
   "outputs": [
    {
     "data": {
      "text/plain": [
       "'Oi ola hello'"
      ]
     },
     "execution_count": 56,
     "metadata": {},
     "output_type": "execute_result"
    }
   ],
   "source": [
    "\"oi Ola HELLO\".capitalize()"
   ]
  },
  {
   "cell_type": "code",
   "execution_count": 57,
   "id": "79f67bfd",
   "metadata": {},
   "outputs": [
    {
     "data": {
      "text/plain": [
       "'Vou Aparecer Nas Redes Sociais Da Prefeitura!'"
      ]
     },
     "execution_count": 57,
     "metadata": {},
     "output_type": "execute_result"
    }
   ],
   "source": [
    "texto.title()"
   ]
  },
  {
   "cell_type": "code",
   "execution_count": 58,
   "id": "ce248b03",
   "metadata": {},
   "outputs": [
    {
     "name": "stdout",
     "output_type": "stream",
     "text": [
      "Escreva o seu apelido: bia\n"
     ]
    }
   ],
   "source": [
    "apelido = input('Escreva o seu apelido: ')"
   ]
  },
  {
   "cell_type": "code",
   "execution_count": 59,
   "id": "e8fcc573",
   "metadata": {},
   "outputs": [
    {
     "data": {
      "text/plain": [
       "'bia'"
      ]
     },
     "execution_count": 59,
     "metadata": {},
     "output_type": "execute_result"
    }
   ],
   "source": [
    "apelido"
   ]
  },
  {
   "cell_type": "code",
   "execution_count": 60,
   "id": "b97638cc",
   "metadata": {},
   "outputs": [
    {
     "name": "stdout",
     "output_type": "stream",
     "text": [
      "Escreva um número primo: 11\n"
     ]
    }
   ],
   "source": [
    "num = input('Escreva um número primo: ')"
   ]
  },
  {
   "cell_type": "code",
   "execution_count": 61,
   "id": "253ec0a9",
   "metadata": {},
   "outputs": [
    {
     "data": {
      "text/plain": [
       "'11'"
      ]
     },
     "execution_count": 61,
     "metadata": {},
     "output_type": "execute_result"
    }
   ],
   "source": [
    "num"
   ]
  },
  {
   "cell_type": "code",
   "execution_count": 62,
   "id": "9d06fff9",
   "metadata": {},
   "outputs": [
    {
     "data": {
      "text/plain": [
       "str"
      ]
     },
     "execution_count": 62,
     "metadata": {},
     "output_type": "execute_result"
    }
   ],
   "source": [
    "type(num)"
   ]
  },
  {
   "cell_type": "code",
   "execution_count": 63,
   "id": "97914fed",
   "metadata": {},
   "outputs": [
    {
     "data": {
      "text/plain": [
       "str"
      ]
     },
     "execution_count": 63,
     "metadata": {},
     "output_type": "execute_result"
    }
   ],
   "source": [
    "type(apelido)"
   ]
  },
  {
   "cell_type": "code",
   "execution_count": 65,
   "id": "95da2890",
   "metadata": {},
   "outputs": [
    {
     "data": {
      "text/plain": [
       "str"
      ]
     },
     "execution_count": 65,
     "metadata": {},
     "output_type": "execute_result"
    }
   ],
   "source": [
    "type(num)"
   ]
  },
  {
   "cell_type": "code",
   "execution_count": 66,
   "id": "550197aa",
   "metadata": {},
   "outputs": [
    {
     "data": {
      "text/plain": [
       "bool"
      ]
     },
     "execution_count": 66,
     "metadata": {},
     "output_type": "execute_result"
    }
   ],
   "source": [
    "type(4>3)"
   ]
  },
  {
   "cell_type": "code",
   "execution_count": 68,
   "id": "4a7fa427",
   "metadata": {},
   "outputs": [
    {
     "data": {
      "text/plain": [
       "bool"
      ]
     },
     "execution_count": 68,
     "metadata": {},
     "output_type": "execute_result"
    }
   ],
   "source": [
    "type(False)"
   ]
  },
  {
   "cell_type": "code",
   "execution_count": 69,
   "id": "ee62c74f",
   "metadata": {},
   "outputs": [
    {
     "data": {
      "text/plain": [
       "bool"
      ]
     },
     "execution_count": 69,
     "metadata": {},
     "output_type": "execute_result"
    }
   ],
   "source": [
    "type(True)"
   ]
  },
  {
   "cell_type": "code",
   "execution_count": 71,
   "id": "92c906bb",
   "metadata": {},
   "outputs": [],
   "source": [
    "#Convertendo variavel num para inteiro \n",
    "\n",
    "num = int(num)"
   ]
  },
  {
   "cell_type": "code",
   "execution_count": 72,
   "id": "2736bbdd",
   "metadata": {},
   "outputs": [
    {
     "data": {
      "text/plain": [
       "11"
      ]
     },
     "execution_count": 72,
     "metadata": {},
     "output_type": "execute_result"
    }
   ],
   "source": [
    "num"
   ]
  },
  {
   "cell_type": "code",
   "execution_count": 73,
   "id": "ff19aaa1",
   "metadata": {},
   "outputs": [
    {
     "data": {
      "text/plain": [
       "int"
      ]
     },
     "execution_count": 73,
     "metadata": {},
     "output_type": "execute_result"
    }
   ],
   "source": [
    "type(num)"
   ]
  },
  {
   "cell_type": "code",
   "execution_count": 77,
   "id": "faa83445",
   "metadata": {},
   "outputs": [
    {
     "name": "stdout",
     "output_type": "stream",
     "text": [
      "Escreva um número primo 11\n"
     ]
    }
   ],
   "source": [
    "#Fazendo direto a transformação\n",
    "num =int(input('Escreva um número primo '))"
   ]
  },
  {
   "cell_type": "code",
   "execution_count": 78,
   "id": "21659e8e",
   "metadata": {},
   "outputs": [
    {
     "data": {
      "text/plain": [
       "11"
      ]
     },
     "execution_count": 78,
     "metadata": {},
     "output_type": "execute_result"
    }
   ],
   "source": [
    "num"
   ]
  },
  {
   "cell_type": "code",
   "execution_count": 79,
   "id": "c7e230dc",
   "metadata": {},
   "outputs": [
    {
     "data": {
      "text/plain": [
       "tuple"
      ]
     },
     "execution_count": 79,
     "metadata": {},
     "output_type": "execute_result"
    }
   ],
   "source": [
    "#Tupla\n",
    "type((2,3))"
   ]
  },
  {
   "cell_type": "code",
   "execution_count": 80,
   "id": "b3ace2df",
   "metadata": {},
   "outputs": [
    {
     "data": {
      "text/plain": [
       "list"
      ]
     },
     "execution_count": 80,
     "metadata": {},
     "output_type": "execute_result"
    }
   ],
   "source": [
    "#Lista\n",
    "type([1, 2, 3])"
   ]
  },
  {
   "cell_type": "code",
   "execution_count": 82,
   "id": "7de63379",
   "metadata": {},
   "outputs": [
    {
     "data": {
      "text/plain": [
       "dict"
      ]
     },
     "execution_count": 82,
     "metadata": {},
     "output_type": "execute_result"
    }
   ],
   "source": [
    "#Dicionario\n",
    "type({1 : 1 })"
   ]
  },
  {
   "cell_type": "code",
   "execution_count": 83,
   "id": "2b030b61",
   "metadata": {},
   "outputs": [],
   "source": [
    "#Supondo que a cotação do dolar esteja em 3,25 reais, salve esse valor em uma variavel e utilize-o para calcular quanto você teria ao combiar 65 reais para Dolares"
   ]
  },
  {
   "cell_type": "code",
   "execution_count": 91,
   "id": "92b33b6d",
   "metadata": {},
   "outputs": [
    {
     "data": {
      "text/plain": [
       "20.0"
      ]
     },
     "execution_count": 91,
     "metadata": {},
     "output_type": "execute_result"
    }
   ],
   "source": [
    "cotação=3.25\n",
    "dolares=65/cotação\n",
    "dolares"
   ]
  },
  {
   "cell_type": "code",
   "execution_count": 93,
   "id": "9cf11a49",
   "metadata": {},
   "outputs": [],
   "source": [
    "voucriarumavariaveltaograndequeficareicompreguiçadeescreverorestante =1"
   ]
  },
  {
   "cell_type": "code",
   "execution_count": null,
   "id": "33a6c57d",
   "metadata": {},
   "outputs": [],
   "source": [
    "voucriarumavariaveltaograndequeficareicompreguiçadeescreverorestante"
   ]
  },
  {
   "cell_type": "code",
   "execution_count": null,
   "id": "8654f0fc",
   "metadata": {},
   "outputs": [],
   "source": [
    "#String"
   ]
  },
  {
   "cell_type": "code",
   "execution_count": 94,
   "id": "2bd18b61",
   "metadata": {},
   "outputs": [],
   "source": [
    "nome = \"Claudio\""
   ]
  },
  {
   "cell_type": "code",
   "execution_count": 95,
   "id": "6763a232",
   "metadata": {},
   "outputs": [
    {
     "data": {
      "text/plain": [
       "'Claudio'"
      ]
     },
     "execution_count": 95,
     "metadata": {},
     "output_type": "execute_result"
    }
   ],
   "source": [
    "nome"
   ]
  },
  {
   "cell_type": "code",
   "execution_count": 96,
   "id": "5cd46cd0",
   "metadata": {},
   "outputs": [
    {
     "data": {
      "text/plain": [
       "'Olá, meu nome é Claudio'"
      ]
     },
     "execution_count": 96,
     "metadata": {},
     "output_type": "execute_result"
    }
   ],
   "source": [
    "Boas_Vindas = f\"Olá, meu nome é {nome}\"\n",
    "Boas_Vindas"
   ]
  },
  {
   "cell_type": "code",
   "execution_count": 97,
   "id": "2c697114",
   "metadata": {},
   "outputs": [
    {
     "data": {
      "text/plain": [
       "'é o pente,é o pente,é o pente,é o pente,é o pente,é o pente,é o pente,é o pente,'"
      ]
     },
     "execution_count": 97,
     "metadata": {},
     "output_type": "execute_result"
    }
   ],
   "source": [
    " \"é o pente,\" *8"
   ]
  },
  {
   "cell_type": "code",
   "execution_count": 105,
   "id": "182c6598",
   "metadata": {},
   "outputs": [],
   "source": [
    "emoji = \"🌹🐱‍🍀🐠\""
   ]
  },
  {
   "cell_type": "code",
   "execution_count": 106,
   "id": "60f30240",
   "metadata": {},
   "outputs": [
    {
     "data": {
      "text/plain": [
       "'🌹🐱\\u200d🍀🐠'"
      ]
     },
     "execution_count": 106,
     "metadata": {},
     "output_type": "execute_result"
    }
   ],
   "source": [
    "emoji"
   ]
  },
  {
   "cell_type": "code",
   "execution_count": 107,
   "id": "ad551608",
   "metadata": {},
   "outputs": [
    {
     "data": {
      "text/plain": [
       "5"
      ]
     },
     "execution_count": 107,
     "metadata": {},
     "output_type": "execute_result"
    }
   ],
   "source": [
    "#Função Len(Length: tamanho)\n",
    "len(emoji)"
   ]
  },
  {
   "cell_type": "code",
   "execution_count": 108,
   "id": "67be366e",
   "metadata": {},
   "outputs": [
    {
     "data": {
      "text/plain": [
       "6"
      ]
     },
     "execution_count": 108,
     "metadata": {},
     "output_type": "execute_result"
    }
   ],
   "source": [
    "len('laglag')"
   ]
  },
  {
   "cell_type": "code",
   "execution_count": 109,
   "id": "30634b1e",
   "metadata": {},
   "outputs": [
    {
     "data": {
      "text/plain": [
       "False"
      ]
     },
     "execution_count": 109,
     "metadata": {},
     "output_type": "execute_result"
    }
   ],
   "source": [
    "len(emoji) == len([5, 6, 7])"
   ]
  },
  {
   "cell_type": "code",
   "execution_count": 110,
   "id": "f25a7578",
   "metadata": {},
   "outputs": [],
   "source": [
    "#Crie 2 variaveis, uma com o seu nome e outracom a sua idade. Escreva com a formatação de f-string a frase:\n",
    "# Oi, meu nome é (nome) e tenho (idade) anos."
   ]
  },
  {
   "cell_type": "code",
   "execution_count": 115,
   "id": "570c938a",
   "metadata": {},
   "outputs": [],
   "source": [
    "nome = \"Bianca\"\n",
    "idade = 18"
   ]
  },
  {
   "cell_type": "code",
   "execution_count": 116,
   "id": "4fd5eff5",
   "metadata": {},
   "outputs": [
    {
     "data": {
      "text/plain": [
       "'Bianca'"
      ]
     },
     "execution_count": 116,
     "metadata": {},
     "output_type": "execute_result"
    }
   ],
   "source": [
    "nome"
   ]
  },
  {
   "cell_type": "code",
   "execution_count": 117,
   "id": "06922f1c",
   "metadata": {},
   "outputs": [
    {
     "data": {
      "text/plain": [
       "18"
      ]
     },
     "execution_count": 117,
     "metadata": {},
     "output_type": "execute_result"
    }
   ],
   "source": [
    "idade"
   ]
  },
  {
   "cell_type": "code",
   "execution_count": 120,
   "id": "c12eaa31",
   "metadata": {},
   "outputs": [
    {
     "data": {
      "text/plain": [
       "'Oi, meu nome é Bianca e tenho 18 anos'"
      ]
     },
     "execution_count": 120,
     "metadata": {},
     "output_type": "execute_result"
    }
   ],
   "source": [
    "frase = f\"Oi, meu nome é {nome} e tenho {idade} anos\"\n",
    "frase"
   ]
  },
  {
   "cell_type": "code",
   "execution_count": 121,
   "id": "ea8913f4",
   "metadata": {},
   "outputs": [],
   "source": [
    "#Listas "
   ]
  },
  {
   "cell_type": "code",
   "execution_count": 124,
   "id": "05ac1554",
   "metadata": {},
   "outputs": [],
   "source": [
    "frutas=['maçã', 'banana','tomate']"
   ]
  },
  {
   "cell_type": "code",
   "execution_count": 125,
   "id": "3a2d33a3",
   "metadata": {},
   "outputs": [
    {
     "data": {
      "text/plain": [
       "['maçã', 'banana', 'tomate']"
      ]
     },
     "execution_count": 125,
     "metadata": {},
     "output_type": "execute_result"
    }
   ],
   "source": [
    "frutas"
   ]
  },
  {
   "cell_type": "code",
   "execution_count": 126,
   "id": "3db8e663",
   "metadata": {},
   "outputs": [],
   "source": [
    "#Indices: posição(numerica) do item na lista"
   ]
  },
  {
   "cell_type": "code",
   "execution_count": 127,
   "id": "de6b2785",
   "metadata": {},
   "outputs": [
    {
     "data": {
      "text/plain": [
       "'maçã'"
      ]
     },
     "execution_count": 127,
     "metadata": {},
     "output_type": "execute_result"
    }
   ],
   "source": [
    "frutas[0]"
   ]
  },
  {
   "cell_type": "code",
   "execution_count": 128,
   "id": "7f06adad",
   "metadata": {},
   "outputs": [
    {
     "data": {
      "text/plain": [
       "'banana'"
      ]
     },
     "execution_count": 128,
     "metadata": {},
     "output_type": "execute_result"
    }
   ],
   "source": [
    "frutas[-2]"
   ]
  },
  {
   "cell_type": "code",
   "execution_count": 131,
   "id": "af819e32",
   "metadata": {},
   "outputs": [],
   "source": [
    "#Adicionar um item no final da lista \n",
    "frutas.append('graviola')"
   ]
  },
  {
   "cell_type": "code",
   "execution_count": 132,
   "id": "ba81d8e5",
   "metadata": {},
   "outputs": [
    {
     "data": {
      "text/plain": [
       "['maçã', 'banana', 'tomate', 'Graviola']"
      ]
     },
     "execution_count": 132,
     "metadata": {},
     "output_type": "execute_result"
    }
   ],
   "source": [
    "frutas"
   ]
  },
  {
   "cell_type": "code",
   "execution_count": 133,
   "id": "f2b49e76",
   "metadata": {},
   "outputs": [
    {
     "data": {
      "text/plain": [
       "'Graviola'"
      ]
     },
     "execution_count": 133,
     "metadata": {},
     "output_type": "execute_result"
    }
   ],
   "source": [
    "frutas[-1]"
   ]
  },
  {
   "cell_type": "code",
   "execution_count": 134,
   "id": "4100b9a9",
   "metadata": {},
   "outputs": [],
   "source": [
    "#Inserir um item na lista em qualquer posição\n",
    "frutas.insert(1,'goiaba')"
   ]
  },
  {
   "cell_type": "code",
   "execution_count": 135,
   "id": "00e4a60c",
   "metadata": {},
   "outputs": [
    {
     "data": {
      "text/plain": [
       "['maçã', 'goiaba', 'banana', 'tomate', 'Graviola']"
      ]
     },
     "execution_count": 135,
     "metadata": {},
     "output_type": "execute_result"
    }
   ],
   "source": [
    "frutas"
   ]
  },
  {
   "cell_type": "code",
   "execution_count": 136,
   "id": "0ad98350",
   "metadata": {},
   "outputs": [],
   "source": [
    "#Trocar uma fruta da lista\n",
    "frutas[1]='melancia'"
   ]
  },
  {
   "cell_type": "code",
   "execution_count": 137,
   "id": "1122f97d",
   "metadata": {},
   "outputs": [
    {
     "data": {
      "text/plain": [
       "['maçã', 'melancia', 'banana', 'tomate', 'Graviola']"
      ]
     },
     "execution_count": 137,
     "metadata": {},
     "output_type": "execute_result"
    }
   ],
   "source": [
    "frutas"
   ]
  },
  {
   "cell_type": "code",
   "execution_count": 138,
   "id": "990d71aa",
   "metadata": {},
   "outputs": [],
   "source": [
    "frutas.remove('melancia')"
   ]
  },
  {
   "cell_type": "code",
   "execution_count": 139,
   "id": "fe2d452c",
   "metadata": {},
   "outputs": [
    {
     "data": {
      "text/plain": [
       "['maçã', 'banana', 'tomate', 'Graviola']"
      ]
     },
     "execution_count": 139,
     "metadata": {},
     "output_type": "execute_result"
    }
   ],
   "source": [
    "frutas"
   ]
  },
  {
   "cell_type": "code",
   "execution_count": 140,
   "id": "176a91e4",
   "metadata": {},
   "outputs": [
    {
     "data": {
      "text/plain": [
       "1"
      ]
     },
     "execution_count": 140,
     "metadata": {},
     "output_type": "execute_result"
    }
   ],
   "source": [
    "frutas.index('banana')"
   ]
  },
  {
   "cell_type": "code",
   "execution_count": 141,
   "id": "9c13b5e6",
   "metadata": {},
   "outputs": [],
   "source": [
    "#Crie uma lista com números de 3 a 10 e exclua os não primos"
   ]
  },
  {
   "cell_type": "code",
   "execution_count": 142,
   "id": "bd118f2e",
   "metadata": {},
   "outputs": [],
   "source": [
    "nu=[3, 4, 5, 6, 7, 8, 9, 10]"
   ]
  },
  {
   "cell_type": "code",
   "execution_count": 143,
   "id": "56f31854",
   "metadata": {},
   "outputs": [
    {
     "data": {
      "text/plain": [
       "[3, 4, 5, 6, 7, 8, 9, 10]"
      ]
     },
     "execution_count": 143,
     "metadata": {},
     "output_type": "execute_result"
    }
   ],
   "source": [
    "nu"
   ]
  },
  {
   "cell_type": "code",
   "execution_count": 169,
   "id": "d9ff829b",
   "metadata": {},
   "outputs": [
    {
     "ename": "SyntaxError",
     "evalue": "invalid syntax (660491493.py, line 1)",
     "output_type": "error",
     "traceback": [
      "\u001b[1;36m  Cell \u001b[1;32mIn[169], line 1\u001b[1;36m\u001b[0m\n\u001b[1;33m    1 nu.remove(6)\u001b[0m\n\u001b[1;37m      ^\u001b[0m\n\u001b[1;31mSyntaxError\u001b[0m\u001b[1;31m:\u001b[0m invalid syntax\n"
     ]
    }
   ],
   "source": [
    "1 nu.remove(6)\n",
    "2 nu.remove(8)\n",
    "3 nu.remove(9)\n",
    "4 nu.remove(10)"
   ]
  },
  {
   "cell_type": "code",
   "execution_count": 170,
   "id": "76b8ef03",
   "metadata": {},
   "outputs": [
    {
     "data": {
      "text/plain": [
       "[3, 5, 7]"
      ]
     },
     "execution_count": 170,
     "metadata": {},
     "output_type": "execute_result"
    }
   ],
   "source": [
    "nu"
   ]
  },
  {
   "cell_type": "code",
   "execution_count": 161,
   "id": "39528c74",
   "metadata": {},
   "outputs": [],
   "source": [
    "#Crie uma lista vazia e imclua um item nela, o número 99"
   ]
  },
  {
   "cell_type": "code",
   "execution_count": 165,
   "id": "51ded253",
   "metadata": {},
   "outputs": [],
   "source": [
    "n = []"
   ]
  },
  {
   "cell_type": "code",
   "execution_count": 166,
   "id": "d1f3a27c",
   "metadata": {},
   "outputs": [
    {
     "data": {
      "text/plain": [
       "[]"
      ]
     },
     "execution_count": 166,
     "metadata": {},
     "output_type": "execute_result"
    }
   ],
   "source": [
    "n"
   ]
  },
  {
   "cell_type": "code",
   "execution_count": 167,
   "id": "b45b9bb3",
   "metadata": {},
   "outputs": [],
   "source": [
    "n.append(99)"
   ]
  },
  {
   "cell_type": "code",
   "execution_count": 168,
   "id": "598c68f4",
   "metadata": {},
   "outputs": [
    {
     "data": {
      "text/plain": [
       "[99]"
      ]
     },
     "execution_count": 168,
     "metadata": {},
     "output_type": "execute_result"
    }
   ],
   "source": [
    "n"
   ]
  },
  {
   "cell_type": "code",
   "execution_count": 171,
   "id": "0646fc2a",
   "metadata": {},
   "outputs": [],
   "source": [
    "#Função range"
   ]
  },
  {
   "cell_type": "code",
   "execution_count": 172,
   "id": "d5c2e703",
   "metadata": {},
   "outputs": [
    {
     "data": {
      "text/plain": [
       "[3, 4, 5, 6, 7, 8, 9, 10]"
      ]
     },
     "execution_count": 172,
     "metadata": {},
     "output_type": "execute_result"
    }
   ],
   "source": [
    "list(range(3, 11))"
   ]
  },
  {
   "cell_type": "code",
   "execution_count": 174,
   "id": "a4fe474e",
   "metadata": {},
   "outputs": [
    {
     "data": {
      "text/plain": [
       "[1,\n",
       " 3,\n",
       " 5,\n",
       " 7,\n",
       " 9,\n",
       " 11,\n",
       " 13,\n",
       " 15,\n",
       " 17,\n",
       " 19,\n",
       " 21,\n",
       " 23,\n",
       " 25,\n",
       " 27,\n",
       " 29,\n",
       " 31,\n",
       " 33,\n",
       " 35,\n",
       " 37,\n",
       " 39,\n",
       " 41,\n",
       " 43,\n",
       " 45,\n",
       " 47,\n",
       " 49,\n",
       " 51,\n",
       " 53,\n",
       " 55,\n",
       " 57,\n",
       " 59,\n",
       " 61,\n",
       " 63,\n",
       " 65,\n",
       " 67,\n",
       " 69,\n",
       " 71,\n",
       " 73,\n",
       " 75,\n",
       " 77,\n",
       " 79,\n",
       " 81,\n",
       " 83,\n",
       " 85,\n",
       " 87,\n",
       " 89,\n",
       " 91,\n",
       " 93,\n",
       " 95,\n",
       " 97,\n",
       " 99]"
      ]
     },
     "execution_count": 174,
     "metadata": {},
     "output_type": "execute_result"
    }
   ],
   "source": [
    "#Passo da lista\n",
    "list(range(1, 101, 2))"
   ]
  },
  {
   "cell_type": "code",
   "execution_count": 175,
   "id": "682756cb",
   "metadata": {},
   "outputs": [],
   "source": [
    "#Estrura de controle "
   ]
  },
  {
   "cell_type": "code",
   "execution_count": 180,
   "id": "60b223df",
   "metadata": {},
   "outputs": [],
   "source": [
    "x = 40"
   ]
  },
  {
   "cell_type": "code",
   "execution_count": 181,
   "id": "c3553eaa",
   "metadata": {},
   "outputs": [
    {
     "data": {
      "text/plain": [
       "40"
      ]
     },
     "execution_count": 181,
     "metadata": {},
     "output_type": "execute_result"
    }
   ],
   "source": [
    "x"
   ]
  },
  {
   "cell_type": "code",
   "execution_count": 182,
   "id": "ec2d91c8",
   "metadata": {},
   "outputs": [
    {
     "name": "stdout",
     "output_type": "stream",
     "text": [
      "O valor de x é diferente de 10\n"
     ]
    }
   ],
   "source": [
    "if x == 10:\n",
    "    print(\"O valor de x é 10\")\n",
    "else:\n",
    "    print(\"O valor de x é diferente de 10\")\n",
    "   "
   ]
  },
  {
   "cell_type": "code",
   "execution_count": 184,
   "id": "61ddca39",
   "metadata": {},
   "outputs": [],
   "source": [
    "senha = \"candelabro\""
   ]
  },
  {
   "cell_type": "code",
   "execution_count": 185,
   "id": "fbde1d85",
   "metadata": {},
   "outputs": [
    {
     "name": "stdout",
     "output_type": "stream",
     "text": [
      "Acesso garantido\n"
     ]
    }
   ],
   "source": [
    "if senha == \"candelabro\":\n",
    "    print(\"Acesso garantido\")\n",
    "else:\n",
    "    print(\"Acesso negado\")"
   ]
  },
  {
   "cell_type": "code",
   "execution_count": 186,
   "id": "00a5c7f7",
   "metadata": {},
   "outputs": [],
   "source": [
    "a=20"
   ]
  },
  {
   "cell_type": "code",
   "execution_count": 187,
   "id": "a68d0432",
   "metadata": {},
   "outputs": [
    {
     "name": "stdout",
     "output_type": "stream",
     "text": [
      "Cai no else\n"
     ]
    }
   ],
   "source": [
    "if a > 30:\n",
    "    print(\"Cai no if\")\n",
    "else:\n",
    "    print(\"Cai no else\")"
   ]
  },
  {
   "cell_type": "code",
   "execution_count": 188,
   "id": "91ee9025",
   "metadata": {},
   "outputs": [],
   "source": [
    "# Escreva um programa que colete do usuario 2 numeros diferentes (a e b) e imprima a menor deles "
   ]
  },
  {
   "cell_type": "code",
   "execution_count": null,
   "id": "b5de241c",
   "metadata": {},
   "outputs": [],
   "source": [
    "a = int(input(\"Insira o valor da variavel a: \"))\n",
    "b = int(input(\"Insira o valor da variavel b: \"))\n",
    "\n",
    "if a<b:\n",
    "    print(f\"O menor valor é {a}\")\n",
    "else:\n",
    "    print(f\"O menor valor é {b})"
   ]
  },
  {
   "cell_type": "code",
   "execution_count": null,
   "id": "d100d7bc",
   "metadata": {},
   "outputs": [],
   "source": [
    "#Estrutura de repetição"
   ]
  },
  {
   "cell_type": "code",
   "execution_count": 1,
   "id": "99161052",
   "metadata": {},
   "outputs": [],
   "source": [
    "num =[3, 5, 7, 11, 13]"
   ]
  },
  {
   "cell_type": "code",
   "execution_count": 2,
   "id": "3ac31f62",
   "metadata": {},
   "outputs": [
    {
     "data": {
      "text/plain": [
       "[3, 5, 7, 11, 13]"
      ]
     },
     "execution_count": 2,
     "metadata": {},
     "output_type": "execute_result"
    }
   ],
   "source": [
    "num"
   ]
  },
  {
   "cell_type": "code",
   "execution_count": 3,
   "id": "1d3d1066",
   "metadata": {},
   "outputs": [
    {
     "name": "stdout",
     "output_type": "stream",
     "text": [
      "3\n",
      "5\n",
      "7\n",
      "11\n",
      "13\n"
     ]
    }
   ],
   "source": [
    "for i in num:\n",
    "    print(i)"
   ]
  },
  {
   "cell_type": "code",
   "execution_count": 4,
   "id": "4ef820f4",
   "metadata": {},
   "outputs": [
    {
     "name": "stdout",
     "output_type": "stream",
     "text": [
      "3\n",
      "5\n",
      "7\n",
      "11\n",
      "13\n"
     ]
    }
   ],
   "source": [
    "for lalala in num:\n",
    "    print(lalala)"
   ]
  },
  {
   "cell_type": "code",
   "execution_count": 5,
   "id": "3bb2a49d",
   "metadata": {},
   "outputs": [
    {
     "name": "stdout",
     "output_type": "stream",
     "text": [
      "0\n",
      "1\n",
      "2\n",
      "3\n",
      "4\n",
      "5\n",
      "6\n",
      "7\n",
      "8\n",
      "9\n",
      "10\n"
     ]
    }
   ],
   "source": [
    "for i in range(11):\n",
    "    print(i)"
   ]
  },
  {
   "cell_type": "code",
   "execution_count": 6,
   "id": "03e92dee",
   "metadata": {},
   "outputs": [
    {
     "name": "stdout",
     "output_type": "stream",
     "text": [
      "9\n",
      "25\n",
      "49\n",
      "121\n",
      "169\n"
     ]
    }
   ],
   "source": [
    "for i in num:\n",
    "    print(i ** 2)"
   ]
  },
  {
   "cell_type": "code",
   "execution_count": 7,
   "id": "64a1b429",
   "metadata": {},
   "outputs": [],
   "source": [
    "#Calcule a tabuada do 7(de 0 a 10)"
   ]
  },
  {
   "cell_type": "code",
   "execution_count": 12,
   "id": "df3620dd",
   "metadata": {},
   "outputs": [],
   "source": [
    "tabu = 7"
   ]
  },
  {
   "cell_type": "code",
   "execution_count": 17,
   "id": "c62ecefb",
   "metadata": {},
   "outputs": [
    {
     "name": "stdout",
     "output_type": "stream",
     "text": [
      "7 x 0 = 0\n",
      "7 x 1 = 7\n",
      "7 x 2 = 14\n",
      "7 x 3 = 21\n",
      "7 x 4 = 28\n",
      "7 x 5 = 35\n",
      "7 x 6 = 42\n",
      "7 x 7 = 49\n",
      "7 x 8 = 56\n",
      "7 x 9 = 63\n",
      "7 x 10 = 70\n"
     ]
    }
   ],
   "source": [
    "for i in range(11):\n",
    "    print(f\"7 x {i} = {i * 7}\")"
   ]
  },
  {
   "cell_type": "code",
   "execution_count": 13,
   "id": "f713ec36",
   "metadata": {},
   "outputs": [
    {
     "data": {
      "text/plain": [
       "7"
      ]
     },
     "execution_count": 13,
     "metadata": {},
     "output_type": "execute_result"
    }
   ],
   "source": [
    "tabu"
   ]
  },
  {
   "cell_type": "code",
   "execution_count": 18,
   "id": "294dd293",
   "metadata": {},
   "outputs": [],
   "source": [
    "#Estrura da funçao\n",
    "#def nome_da_funcao\n",
    "#comando da funcao\n",
    "# return resultado"
   ]
  },
  {
   "cell_type": "code",
   "execution_count": 19,
   "id": "4a45df7c",
   "metadata": {},
   "outputs": [],
   "source": [
    "def imprime_quatro():\n",
    "    return 4"
   ]
  },
  {
   "cell_type": "code",
   "execution_count": 21,
   "id": "0577065b",
   "metadata": {},
   "outputs": [
    {
     "data": {
      "text/plain": [
       "4"
      ]
     },
     "execution_count": 21,
     "metadata": {},
     "output_type": "execute_result"
    }
   ],
   "source": [
    "imprime_quatro()"
   ]
  },
  {
   "cell_type": "code",
   "execution_count": 22,
   "id": "cd3f8b4b",
   "metadata": {},
   "outputs": [],
   "source": [
    "x = imprime_quatro()"
   ]
  },
  {
   "cell_type": "code",
   "execution_count": 23,
   "id": "441885bc",
   "metadata": {},
   "outputs": [
    {
     "data": {
      "text/plain": [
       "4"
      ]
     },
     "execution_count": 23,
     "metadata": {},
     "output_type": "execute_result"
    }
   ],
   "source": [
    "x"
   ]
  },
  {
   "cell_type": "code",
   "execution_count": 24,
   "id": "099c13e1",
   "metadata": {},
   "outputs": [],
   "source": [
    "def soma_4(x):\n",
    "    return 4 + x "
   ]
  },
  {
   "cell_type": "code",
   "execution_count": 27,
   "id": "6694e140",
   "metadata": {},
   "outputs": [
    {
     "data": {
      "text/plain": [
       "9.5"
      ]
     },
     "execution_count": 27,
     "metadata": {},
     "output_type": "execute_result"
    }
   ],
   "source": [
    "soma_4(5.5)"
   ]
  },
  {
   "cell_type": "code",
   "execution_count": 28,
   "id": "042bd0a2",
   "metadata": {},
   "outputs": [],
   "source": [
    "def multiplica(x,y):\n",
    "    return x*y\n"
   ]
  },
  {
   "cell_type": "code",
   "execution_count": 29,
   "id": "5f5b058f",
   "metadata": {},
   "outputs": [
    {
     "data": {
      "text/plain": [
       "30"
      ]
     },
     "execution_count": 29,
     "metadata": {},
     "output_type": "execute_result"
    }
   ],
   "source": [
    "multiplica(10,3)"
   ]
  },
  {
   "cell_type": "code",
   "execution_count": 32,
   "id": "e11987fd",
   "metadata": {},
   "outputs": [],
   "source": [
    "def eh_par(z):\n",
    "    if z % 2 == 0:\n",
    "        return True\n",
    "    else:\n",
    "        return False\n",
    "    #para aparecer as linhas (ESC e L)"
   ]
  },
  {
   "cell_type": "code",
   "execution_count": 33,
   "id": "83baf0b7",
   "metadata": {},
   "outputs": [
    {
     "data": {
      "text/plain": [
       "False"
      ]
     },
     "execution_count": 33,
     "metadata": {},
     "output_type": "execute_result"
    }
   ],
   "source": [
    "eh_par(25)"
   ]
  },
  {
   "cell_type": "raw",
   "id": "259b1655",
   "metadata": {},
   "source": [
    "#Crie uma função que receba uma lista de números inteiros e retorne somente os pares "
   ]
  },
  {
   "cell_type": "code",
   "execution_count": 34,
   "id": "47bce64b",
   "metadata": {},
   "outputs": [],
   "source": [
    "def lista_de_pares(lista):\n",
    "    lista_pares = []\n",
    "    for i in lista:\n",
    "        if i % 2 == 0:\n",
    "            lista_pares.append(i)\n",
    "    return lista_pares"
   ]
  },
  {
   "cell_type": "code",
   "execution_count": 35,
   "id": "44af97e1",
   "metadata": {},
   "outputs": [
    {
     "data": {
      "text/plain": [
       "[4, 22, 6, 30]"
      ]
     },
     "execution_count": 35,
     "metadata": {},
     "output_type": "execute_result"
    }
   ],
   "source": [
    "lista_de_pares([3, 13, 4, 22, 31, 6, 30])"
   ]
  },
  {
   "cell_type": "code",
   "execution_count": null,
   "id": "76cc40bd",
   "metadata": {},
   "outputs": [],
   "source": []
  }
 ],
 "metadata": {
  "kernelspec": {
   "display_name": "Python 3 (ipykernel)",
   "language": "python",
   "name": "python3"
  },
  "language_info": {
   "codemirror_mode": {
    "name": "ipython",
    "version": 3
   },
   "file_extension": ".py",
   "mimetype": "text/x-python",
   "name": "python",
   "nbconvert_exporter": "python",
   "pygments_lexer": "ipython3",
   "version": "3.11.5"
  }
 },
 "nbformat": 4,
 "nbformat_minor": 5
}
